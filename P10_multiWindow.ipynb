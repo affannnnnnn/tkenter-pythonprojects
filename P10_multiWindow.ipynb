{
 "cells": [
  {
   "cell_type": "code",
   "execution_count": 2,
   "id": "f38c12ed",
   "metadata": {},
   "outputs": [],
   "source": [
    "import tkinter as tk\n",
    "from tkinter import ttk\n",
    "from tkinter import messagebox\n",
    "\n",
    "class Extra(tk.Toplevel):\n",
    "\tdef __init__(self):\n",
    "\t\tsuper().__init__()\n",
    "\t\tself.title('extra window')\n",
    "\t\tself.geometry('300x400')\n",
    "\t\tttk.Label(self, text = 'A label').pack()\n",
    "\t\tttk.Button(self, text = 'A button').pack()\n",
    "\t\tttk.Label(self, text = 'another label').pack(expand = True)\n",
    "\n",
    "# https://docs.python.org/3/library/tkinter.messagebox.html\n",
    "def ask_yes_no():\n",
    "\t# answer = messagebox.askquestion('Title', 'Body')\n",
    "\t# print(answer)\n",
    "\tmessagebox.showerror('Info title', 'Here is some information')\n",
    "\n",
    "def create_window():\n",
    "\tglobal extra_window\n",
    "\textra_window = Extra()\n",
    "\n",
    "\n",
    "def close_window():\n",
    "\textra_window.destroy()\n",
    "\n",
    "# window\n",
    "window = tk.Tk()\n",
    "window.geometry('600x400')\n",
    "window.title('Multiple windows')\n",
    "\n",
    "button1 = ttk.Button(window, text = 'open main window', command = create_window)\n",
    "button1.pack(expand = True)\n",
    "\n",
    "button2 = ttk.Button(window, text = 'close main window', command = close_window)\n",
    "button2.pack(expand = True)\n",
    "\n",
    "button3 = ttk.Button(window, text = 'create yes no window', command = ask_yes_no)\n",
    "button3.pack(expand = True)\n",
    "\n",
    "# run \n",
    "window.mainloop()\n",
    "\n"
   ]
  }
 ],
 "metadata": {
  "kernelspec": {
   "display_name": "Python 3 (ipykernel)",
   "language": "python",
   "name": "python3"
  },
  "language_info": {
   "codemirror_mode": {
    "name": "ipython",
    "version": 3
   },
   "file_extension": ".py",
   "mimetype": "text/x-python",
   "name": "python",
   "nbconvert_exporter": "python",
   "pygments_lexer": "ipython3",
   "version": "3.10.9"
  }
 },
 "nbformat": 4,
 "nbformat_minor": 5
}
