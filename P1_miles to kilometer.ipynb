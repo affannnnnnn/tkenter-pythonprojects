{
 "cells": [
  {
   "cell_type": "code",
   "execution_count": 1,
   "id": "24afdc32",
   "metadata": {},
   "outputs": [
    {
     "name": "stdout",
     "output_type": "stream",
     "text": [
      "affan\n"
     ]
    }
   ],
   "source": [
    "print(\"affan\")"
   ]
  },
  {
   "cell_type": "code",
   "execution_count": 3,
   "id": "449eaf43",
   "metadata": {},
   "outputs": [],
   "source": [
    "import tkinter as tk\n",
    "from tkinter import ttk\n",
    "\n",
    "def convert():\n",
    "    mile_input = entry_int.get()\n",
    "    km_output = mile_input * 1.61\n",
    "    output_string.set(km_output)\n",
    "# window\n",
    "window= tk.Tk()\n",
    "window.title(\"syed affan ashrafi\")\n",
    "window.geometry(\"400x200\")\n",
    "\n",
    "#title\n",
    "title_lable = ttk.Label(master=window, text=\"miles to  kilometers\", font=\"calibri 24 bold\")\n",
    "title_lable.pack()\n",
    "\n",
    "#input field\n",
    "input_frame = ttk.Frame(master=window)\n",
    "entry_int = tk.IntVar()\n",
    "entry = ttk.Entry(master=input_frame, textvariable=entry_int)\n",
    "button = ttk.Button(master=input_frame, text=\"convert\", command=convert)\n",
    "entry.pack(side=\"left\", padx=10)\n",
    "button.pack(side=\"left\")\n",
    "input_frame.pack(pady=10)\n",
    "\n",
    "#output\n",
    "output_string = tk.StringVar()\n",
    "output_label = ttk.Label(\n",
    "    master=window,\n",
    "    text=\"output\",\n",
    "    font=\"Calibri 24\",\n",
    "    textvariable=output_string)\n",
    "output_label.pack()\n",
    "# run\n",
    "window.mainloop()"
   ]
  }
 ],
 "metadata": {
  "kernelspec": {
   "display_name": "Python 3 (ipykernel)",
   "language": "python",
   "name": "python3"
  },
  "language_info": {
   "codemirror_mode": {
    "name": "ipython",
    "version": 3
   },
   "file_extension": ".py",
   "mimetype": "text/x-python",
   "name": "python",
   "nbconvert_exporter": "python",
   "pygments_lexer": "ipython3",
   "version": "3.10.9"
  }
 },
 "nbformat": 4,
 "nbformat_minor": 5
}
