{
 "cells": [
  {
   "cell_type": "code",
   "execution_count": 1,
   "id": "01508123",
   "metadata": {},
   "outputs": [
    {
     "name": "stdout",
     "output_type": "stream",
     "text": [
      "a button was pressed\n",
      "a button was pressed\n",
      "a button was pressed\n"
     ]
    }
   ],
   "source": [
    "import tkinter as tk\n",
    "from tkinter import ttk\n",
    "\n",
    "def button_func():\n",
    "    print(\"a button was pressed\")\n",
    "\n",
    "def exercise_button_func():\n",
    "    print(\"hello\")\n",
    "\n",
    "# create a window\n",
    "window = tk.Tk()\n",
    "window.title(\"window and widgets\")\n",
    "window.geometry(\"800x500\")\n",
    "\n",
    "# ttk label\n",
    "label = ttk.Label(master=window, text=\"this is a test\")\n",
    "label.pack()\n",
    "\n",
    "# tk.text\n",
    "text = tk.Text(master=window)\n",
    "text.pack()\n",
    "\n",
    "# ttk entry\n",
    "entry = ttk.Entry(master=window)\n",
    "entry.pack()\n",
    "\n",
    "# exercise label\n",
    "exercise_label = ttk.Label(master=window, text=\"my label\")\n",
    "exercise_label.pack()\n",
    "\n",
    "# ttk button\n",
    "button = ttk.Button(master=window, text=\"A button\", command=button_func)\n",
    "button.pack()\n",
    "\n",
    "#exexcise button\n",
    "exexcise_button = ttk.Button(master=window, text='exercise button', command=lambda: print(\"hello\"))\n",
    "exexcise_button.pack()\n",
    "\n",
    "\n",
    "\n",
    "# run\n",
    "window.mainloop()\n"
   ]
  }
 ],
 "metadata": {
  "kernelspec": {
   "display_name": "Python 3 (ipykernel)",
   "language": "python",
   "name": "python3"
  },
  "language_info": {
   "codemirror_mode": {
    "name": "ipython",
    "version": 3
   },
   "file_extension": ".py",
   "mimetype": "text/x-python",
   "name": "python",
   "nbconvert_exporter": "python",
   "pygments_lexer": "ipython3",
   "version": "3.10.9"
  }
 },
 "nbformat": 4,
 "nbformat_minor": 5
}
