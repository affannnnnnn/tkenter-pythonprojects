{
 "cells": [
  {
   "cell_type": "code",
   "execution_count": 1,
   "id": "98810e6b",
   "metadata": {},
   "outputs": [
    {
     "name": "stdout",
     "output_type": "stream",
     "text": [
      "\n",
      "button pressed\n",
      "button pressed\n",
      "button pressed\n"
     ]
    }
   ],
   "source": [
    "import tkinter as tk\n",
    "from tkinter import ttk\n",
    "\n",
    "def button_func():\n",
    "    print(string_var.get())\n",
    "    string_var.set('button pressed')\n",
    "\n",
    "# window\n",
    "window = tk.Tk()\n",
    "window.title('Tkinter Variables')\n",
    "\n",
    "# tkinter variable\n",
    "string_var = tk.StringVar()\n",
    "\n",
    "# widgets\n",
    "label = ttk.Label(master=window, text='label', textvariable=string_var)\n",
    "label.pack()\n",
    "\n",
    "entry = ttk.Entry(master=window, textvariable=string_var)\n",
    "entry.pack()\n",
    "\n",
    "button = ttk.Button(master = window, text = 'button', command = button_func)\n",
    "button.pack()\n",
    "\n",
    "# exercise\n",
    "# create 2 entry fields and 1 label, they should all be connected via a StringVar\n",
    "# set a start value of 'test'\n",
    "\n",
    "exercise_var = tk.StringVar(value='test')\n",
    "# exercise_var.set('test')\n",
    "\n",
    "entry1 = ttk.Entry(master=window, textvariable=exercise_var)\n",
    "entry1.pack()\n",
    "entry2 = ttk.Entry(master=window, textvariable=exercise_var)\n",
    "entry2.pack()\n",
    "exercise_label = ttk.Label(master=window, textvariable=exercise_var)\n",
    "exercise_label.pack()\n",
    "\n",
    "# run\n",
    "window.mainloop()"
   ]
  }
 ],
 "metadata": {
  "kernelspec": {
   "display_name": "Python 3 (ipykernel)",
   "language": "python",
   "name": "python3"
  },
  "language_info": {
   "codemirror_mode": {
    "name": "ipython",
    "version": 3
   },
   "file_extension": ".py",
   "mimetype": "text/x-python",
   "name": "python",
   "nbconvert_exporter": "python",
   "pygments_lexer": "ipython3",
   "version": "3.10.9"
  }
 },
 "nbformat": 4,
 "nbformat_minor": 5
}
