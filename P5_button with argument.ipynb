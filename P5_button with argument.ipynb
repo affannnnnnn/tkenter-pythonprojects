{
 "cells": [
  {
   "cell_type": "code",
   "execution_count": 1,
   "id": "dbb0f435",
   "metadata": {},
   "outputs": [
    {
     "name": "stdout",
     "output_type": "stream",
     "text": [
      "entry field was selected\n",
      "entry field was unselected\n"
     ]
    }
   ],
   "source": [
    "import tkinter as tk\n",
    "from tkinter import ttk\n",
    "\n",
    "# list of events\n",
    "# pythontutorial.net/tkinter/tkinter-event-binding\n",
    "\n",
    "def get_pos(event):\n",
    "    print(f'x: {event.x} y: {event.y}')\n",
    "\n",
    "# window\n",
    "window = tk.Tk()\n",
    "window.geometry('600x500')\n",
    "window.title('Event Binding')\n",
    "\n",
    "# widgets\n",
    "text = tk.Text(window)\n",
    "text.pack()\n",
    "\n",
    "entry = ttk.Entry(window)\n",
    "entry.pack()\n",
    "\n",
    "button = ttk.Button(window, text = 'A button')\n",
    "button.pack()\n",
    "\n",
    "# events\n",
    "# button.bind('<Alt-KeyPress-a>', lambda event: print(event))\n",
    "# window.bind('<KeyPress>', lambda event: print(f'a button was pressed ({event.char})'))\n",
    "\n",
    "# window.bind('<Motion>', get_pos)\n",
    "\n",
    "entry.bind('<FocusIn>', lambda event: print('entry field was selected'))\n",
    "entry.bind('<FocusOut>', lambda event: print('entry field was unselected'))\n",
    "\n",
    "# exercise :\n",
    "# print 'Mousewheel' when the user holds down shift and uses the mousewheel while text is selected\n",
    "text.bind('<Shift-MouseWheel>', lambda event: print('Mousewheel'))\n",
    "\n",
    "# run\n",
    "window.mainloop()"
   ]
  }
 ],
 "metadata": {
  "kernelspec": {
   "display_name": "Python 3 (ipykernel)",
   "language": "python",
   "name": "python3"
  },
  "language_info": {
   "codemirror_mode": {
    "name": "ipython",
    "version": 3
   },
   "file_extension": ".py",
   "mimetype": "text/x-python",
   "name": "python",
   "nbconvert_exporter": "python",
   "pygments_lexer": "ipython3",
   "version": "3.10.9"
  }
 },
 "nbformat": 4,
 "nbformat_minor": 5
}
