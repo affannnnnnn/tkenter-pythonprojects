{
 "cells": [
  {
   "cell_type": "code",
   "execution_count": 1,
   "id": "3fe20762",
   "metadata": {},
   "outputs": [
    {
     "name": "stdout",
     "output_type": "stream",
     "text": [
      "up\n",
      "15\n",
      "down\n",
      "12\n",
      "down\n",
      "9\n",
      "down\n",
      "6\n",
      "B\n",
      "A\n",
      "A\n",
      "A\n",
      "A\n",
      "A\n"
     ]
    }
   ],
   "source": [
    "import tkinter as tk\n",
    "from tkinter import ttk\n",
    "\n",
    "\n",
    "window = tk.Tk()\n",
    "window.geometry('600x400')\n",
    "window.title('Combo and Spin')\n",
    "\n",
    "\n",
    "items = ('Ice cream', 'Pizza', 'Broccoli')\n",
    "food_string = tk.StringVar(value = items[0])\n",
    "combo = ttk.Combobox(window, textvariable = food_string)\n",
    "combo['values'] = items\n",
    "\n",
    "combo.pack()\n",
    "\n",
    "# events \n",
    "combo.bind('<<ComboboxSelected>>', lambda event: combo_label.config(text = f'Selected value: {food_string.get()}'))\n",
    "\n",
    "combo_label = ttk.Label(window, text = 'a label')\n",
    "combo_label.pack()\n",
    "\n",
    "# Spinbox\n",
    "spin_int = tk.IntVar(value = 12)\n",
    "spin = ttk.Spinbox(\n",
    "\twindow, \n",
    "\tfrom_ = 3, \n",
    "\tto = 20, \n",
    "\tincrement = 3, \n",
    "\tcommand = lambda: print(spin_int.get()),\n",
    "\ttextvariable = spin_int)\n",
    "spin.bind('<<Increment>>', lambda event: print('up'))\n",
    "spin.bind('<<Decrement>>', lambda event: print('down'))\n",
    "# spin['value'] = (1,2,3,4,5)\n",
    "spin.pack()\n",
    "\n",
    "\n",
    "\n",
    "exercise_letters = ('A', 'B', 'C', 'D', 'E')\n",
    "exercise_string = tk.StringVar(value = exercise_letters[0])\n",
    "exercise_spin = ttk.Spinbox(window, textvariable = exercise_string, values = exercise_letters)\n",
    "exercise_spin.pack()\n",
    "\n",
    "exercise_spin.bind('<<Decrement>>', lambda event: print(exercise_string.get()))\n",
    "\n",
    "# run\n",
    "window.mainloop()"
   ]
  }
 ],
 "metadata": {
  "kernelspec": {
   "display_name": "Python 3 (ipykernel)",
   "language": "python",
   "name": "python3"
  },
  "language_info": {
   "codemirror_mode": {
    "name": "ipython",
    "version": 3
   },
   "file_extension": ".py",
   "mimetype": "text/x-python",
   "name": "python",
   "nbconvert_exporter": "python",
   "pygments_lexer": "ipython3",
   "version": "3.10.9"
  }
 },
 "nbformat": 4,
 "nbformat_minor": 5
}
