{
 "cells": [
  {
   "cell_type": "code",
   "execution_count": 1,
   "id": "6050dbef",
   "metadata": {},
   "outputs": [],
   "source": [
    "import tkinter as tk\n",
    "from tkinter import ttk\n",
    "\n",
    "# setup\n",
    "window = tk.Tk()\n",
    "window.geometry('600x400')\n",
    "window.title('Canvas')\n",
    "\n",
    "# canvas \n",
    "canvas = tk.Canvas(window, bg = 'white')\n",
    "canvas.pack()\n",
    "\n",
    "# use event binding to create a basic paint app\n",
    "def draw_on_canvas(event):\n",
    "\tx = event.x\n",
    "\ty = event.y\n",
    "\tcanvas.create_oval((x - brush_size / 2,y - brush_size / 2, x + brush_size / 2,y + brush_size / 2), fill = 'black')\n",
    "\n",
    "def brush_size_adjust(event):\n",
    "\tglobal brush_size\n",
    "\tif event.delta > 0:\n",
    "\t\tbrush_size += 4\n",
    "\telse:\n",
    "\t\tbrush_size -= 4\n",
    "\n",
    "\tbrush_size = max(0,min(brush_size, 50))\n",
    "\t\n",
    "\n",
    "brush_size = 2\n",
    "canvas.bind('<Motion>', draw_on_canvas)\n",
    "canvas.bind('<MouseWheel>', brush_size_adjust)\n",
    "\n",
    "# run\n",
    "window.mainloop()"
   ]
  }
 ],
 "metadata": {
  "kernelspec": {
   "display_name": "Python 3 (ipykernel)",
   "language": "python",
   "name": "python3"
  },
  "language_info": {
   "codemirror_mode": {
    "name": "ipython",
    "version": 3
   },
   "file_extension": ".py",
   "mimetype": "text/x-python",
   "name": "python",
   "nbconvert_exporter": "python",
   "pygments_lexer": "ipython3",
   "version": "3.10.9"
  }
 },
 "nbformat": 4,
 "nbformat_minor": 5
}
