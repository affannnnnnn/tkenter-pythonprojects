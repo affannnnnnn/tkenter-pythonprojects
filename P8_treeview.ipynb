{
 "cells": [
  {
   "cell_type": "code",
   "execution_count": 1,
   "id": "bd49257f",
   "metadata": {},
   "outputs": [
    {
     "name": "stdout",
     "output_type": "stream",
     "text": [
      "('I059',)\n",
      "['Bob', 'Cook', 'BCook@email.com']\n",
      "('I059',)\n",
      "['Bob', 'Cook', 'BCook@email.com']\n",
      "('I056',)\n",
      "['Alex', 'Wilson', 'AWilson@email.com']\n",
      "('I055',)\n",
      "['Lisa', 'Clark', 'LClark@email.com']\n",
      "('I054',)\n",
      "['Henry', 'Brown', 'HBrown@email.com']\n",
      "('I053',)\n",
      "['Lisa', 'Wilson', 'LWilson@email.com']\n"
     ]
    }
   ],
   "source": [
    "import tkinter as tk\n",
    "from tkinter import ttk\n",
    "from random import choice\n",
    "\n",
    "# window\n",
    "window = tk.Tk()\n",
    "window.geometry('600x400')\n",
    "window.title('Treeview')\n",
    "\n",
    "# data \n",
    "first_names = ['Bob', 'Maria', 'Alex', 'James', 'Susan', 'Henry', 'Lisa', 'Anna', 'Lisa']\n",
    "last_names = ['Smith', 'Brown', 'Wilson', 'Thomson', 'Cook', 'Taylor', 'Walker', 'Clark']\n",
    "\n",
    "# treeview \n",
    "table = ttk.Treeview(window, columns = ('first', 'last', 'email'), show = 'headings')\n",
    "table.heading('first', text = 'First name')\n",
    "table.heading('last', text = 'Surname')\n",
    "table.heading('email', text = 'Email')\n",
    "table.pack(fill = 'both', expand = True)\n",
    "\n",
    "# insert values into a table\n",
    "# table.insert(parent = '', index = 0, values = ('John', 'Doe', 'JohnDoe@email.com'))\n",
    "for i in range(100):\n",
    "\tfirst = choice(first_names)\n",
    "\tlast = choice(last_names)\n",
    "\temail = f'{first[0]}{last}@email.com'\n",
    "\tdata = (first, last, email)\n",
    "\ttable.insert(parent = '', index = 0, values = data)\n",
    "\n",
    "table.insert(parent = '', index = tk.END, values = ('XXXXX', 'YYYYY', 'ZZZZZ'))\n",
    "\n",
    "# events\n",
    "def item_select(_):\n",
    "\tprint(table.selection())\n",
    "\tfor i in table.selection():\n",
    "\t\tprint(table.item(i)['values'])\n",
    "\t# table.item(table.selection())\n",
    "\n",
    "def delete_items(_):\n",
    "\tprint('delete')\n",
    "\tfor i in table.selection():\n",
    "\t\ttable.delete(i)\n",
    "\n",
    "table.bind('<<TreeviewSelect>>', item_select)\n",
    "table.bind('<Delete>', delete_items)\n",
    "\n",
    "# run \n",
    "window.mainloop()"
   ]
  }
 ],
 "metadata": {
  "kernelspec": {
   "display_name": "Python 3 (ipykernel)",
   "language": "python",
   "name": "python3"
  },
  "language_info": {
   "codemirror_mode": {
    "name": "ipython",
    "version": 3
   },
   "file_extension": ".py",
   "mimetype": "text/x-python",
   "name": "python",
   "nbconvert_exporter": "python",
   "pygments_lexer": "ipython3",
   "version": "3.10.9"
  }
 },
 "nbformat": 4,
 "nbformat_minor": 5
}
