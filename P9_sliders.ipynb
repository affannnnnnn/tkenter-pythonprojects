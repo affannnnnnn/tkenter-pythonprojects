{
 "cells": [
  {
   "cell_type": "code",
   "execution_count": 4,
   "id": "564476c0",
   "metadata": {},
   "outputs": [],
   "source": [
    "import tkinter as tk\n",
    "from tkinter import ttk\n",
    "from tkinter import scrolledtext\n",
    "\n",
    "# window\n",
    "window = tk.Tk()\n",
    "window.title('Sliders')\n",
    "\n",
    "# slider\n",
    "scale_float = tk.DoubleVar(value = 15)\n",
    "scale = ttk.Scale(\n",
    "\twindow, \n",
    "\tcommand = lambda value: progress.stop(), \n",
    "\tfrom_ = 0, \n",
    "\tto = 25,\n",
    "\tlength = 300,\n",
    "\torient = 'horizontal',\n",
    "\tvariable = scale_float)\n",
    "scale.pack()\n",
    "\n",
    "# progress bar\n",
    "progress = ttk.Progressbar(\n",
    "\twindow, \n",
    "\tvariable = scale_float, \n",
    "\tmaximum = 25,\n",
    "\torient = 'horizontal',\n",
    "\tmode = 'indeterminate',\n",
    "\tlength = 400)\n",
    "progress.pack()\n",
    "\n",
    "# progress.start(1000)\n",
    "\n",
    "# Scrolledtext\n",
    "scrolled_text = scrolledtext.ScrolledText(window, width = 100, height = 5)\n",
    "scrolled_text.pack()\n",
    "\n",
    "exercise_int = tk.IntVar()\n",
    "exercise_progress = ttk.Progressbar(window, orient = 'vertical', variable = exercise_int)\n",
    "exercise_progress.pack()\n",
    "exercise_progress.start()\n",
    "\n",
    "label = ttk.Label(window, textvariable = exercise_int)\n",
    "label.pack()\n",
    "\n",
    "exercise_scale = ttk.Scale(window, variable = exercise_int, from_ = 0, to = 200)\n",
    "exercise_scale.pack()\n",
    "\n",
    "# run\n",
    "window.mainloop()"
   ]
  }
 ],
 "metadata": {
  "kernelspec": {
   "display_name": "Python 3 (ipykernel)",
   "language": "python",
   "name": "python3"
  },
  "language_info": {
   "codemirror_mode": {
    "name": "ipython",
    "version": 3
   },
   "file_extension": ".py",
   "mimetype": "text/x-python",
   "name": "python",
   "nbconvert_exporter": "python",
   "pygments_lexer": "ipython3",
   "version": "3.10.9"
  }
 },
 "nbformat": 4,
 "nbformat_minor": 5
}
