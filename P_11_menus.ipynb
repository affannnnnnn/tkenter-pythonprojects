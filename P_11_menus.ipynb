{
 "cells": [
  {
   "cell_type": "code",
   "execution_count": null,
   "id": "592d273d",
   "metadata": {},
   "outputs": [
    {
     "name": "stdout",
     "output_type": "stream",
     "text": [
      "test 1\n",
      "test 1\n",
      "test 1\n",
      "test 1\n",
      "test 1\n",
      "test 1\n"
     ]
    }
   ],
   "source": [
    "import tkinter as tk\n",
    "from tkinter import ttk\n",
    "\n",
    "# window\n",
    "window = tk.Tk()\n",
    "window.geometry('600x400')\n",
    "window.title('Menu')\n",
    "\n",
    "# menu\n",
    "menu = tk.Menu(window)\n",
    "\n",
    "# sub menu \n",
    "file_menu = tk.Menu(menu, tearoff = False)\n",
    "file_menu.add_command(label = 'New', command = lambda: print('New file'))\n",
    "file_menu.add_command(label = 'Open', command = lambda: print('Open file'))\n",
    "file_menu.add_separator()\n",
    "menu.add_cascade(label = 'File', menu = file_menu)\n",
    "\n",
    "# another sub menu\n",
    "help_menu = tk.Menu(menu, tearoff = False)\n",
    "help_menu.add_command(label = 'Help entry', command = lambda: print(help_check_string.get()))\n",
    "\n",
    "help_check_string = tk.StringVar()\n",
    "help_menu.add_checkbutton(label = 'check', onvalue = 'on', offvalue = 'off', variable = help_check_string)\n",
    "\n",
    "menu.add_cascade(label = 'Help', menu = help_menu)\n",
    "\n",
    "# add another menu to the main menu, this one should have a sub menu\n",
    "# try to read the website below and add a submenu\n",
    "# docs: https://www.tutorialspoint.com/python/tk_menu.htm\n",
    "exercise_menu = tk.Menu(menu, tearoff = False)\n",
    "exercise_menu.add_command(label = 'exercise test 1')\n",
    "menu.add_cascade(label = 'Exercise', menu = exercise_menu)\n",
    "\n",
    "exercise_sub_menu = tk.Menu(menu, tearoff = False)\n",
    "exercise_sub_menu.add_command(label = 'some more stuff')\n",
    "exercise_menu.add_cascade(label = 'more stuff', menu = exercise_sub_menu)\n",
    "\n",
    "window.configure(menu = menu)\n",
    "\n",
    "# menu button\n",
    "menu_button = ttk.Menubutton(window, text = 'Menu Button')\n",
    "menu_button.pack()\n",
    "\n",
    "button_sub_menu = tk.Menu(menu_button, tearoff = False)\n",
    "button_sub_menu.add_command(label = 'entry 1', command = lambda: print('test 1'))\n",
    "button_sub_menu.add_checkbutton(label = 'check 1')\n",
    "# menu_button.configure(menu = button_sub_menu)\n",
    "menu_button['menu']= button_sub_menu\n",
    "\n",
    "# run\n",
    "window.mainloop()"
   ]
  }
 ],
 "metadata": {
  "kernelspec": {
   "display_name": "Python 3 (ipykernel)",
   "language": "python",
   "name": "python3"
  },
  "language_info": {
   "codemirror_mode": {
    "name": "ipython",
    "version": 3
   },
   "file_extension": ".py",
   "mimetype": "text/x-python",
   "name": "python",
   "nbconvert_exporter": "python",
   "pygments_lexer": "ipython3",
   "version": "3.10.9"
  }
 },
 "nbformat": 4,
 "nbformat_minor": 5
}
