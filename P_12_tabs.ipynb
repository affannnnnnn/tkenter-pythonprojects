{
 "cells": [
  {
   "cell_type": "code",
   "execution_count": null,
   "id": "59b1a676",
   "metadata": {},
   "outputs": [],
   "source": [
    "import tkinter as tk\n",
    "from tkinter import ttk\n",
    " \n",
    "window = tk.Tk()\n",
    "window.geometry('600x400')\n",
    "window.title(\"Tab Widget\")\n",
    "\n",
    "# Notebook widget\n",
    "notebook = ttk.Notebook(window)\n",
    "\n",
    "# tab 1\n",
    "tab1 = ttk.Frame(notebook)\n",
    "label1 = ttk.Label(tab1, text = 'Text in tab 1')\n",
    "label1.pack()\n",
    "button1 = ttk.Button(tab1, text = 'Button in tab 1')\n",
    "button1.pack()\n",
    "\n",
    "# tab 2\n",
    "tab2 = ttk.Frame(notebook)\n",
    "label2 = ttk.Label(tab2, text = 'Text in tab 2')\n",
    "label2.pack()\n",
    "entry2 = ttk.Entry(tab2)\n",
    "entry2.pack()\n",
    "\n",
    "notebook.add(tab1, text = 'Tab 1')\n",
    "notebook.add(tab2, text = 'Tab 2')\n",
    "notebook.pack()\n",
    "\n",
    "# exercise\n",
    "# add another tab with 2 buttons and one label inside \n",
    "\n",
    "tab_exercise = ttk.Frame(notebook)\n",
    "button_exercise_1 = ttk.Button(tab_exercise, text = 'button 1')\n",
    "button_exercise_1.pack()\n",
    "\n",
    "button_exercise_2 = ttk.Button(tab_exercise, text = 'button 2')\n",
    "button_exercise_2.pack()\n",
    "\n",
    "label_exercise_2 = ttk.Label(tab_exercise, text = 'Label')\n",
    "label_exercise_2.pack()\n",
    "\n",
    "notebook.add(tab_exercise, text = 'Tab exercise')\n",
    "\n",
    "# run \n",
    "window.mainloop()  "
   ]
  }
 ],
 "metadata": {
  "kernelspec": {
   "display_name": "Python 3 (ipykernel)",
   "language": "python",
   "name": "python3"
  },
  "language_info": {
   "codemirror_mode": {
    "name": "ipython",
    "version": 3
   },
   "file_extension": ".py",
   "mimetype": "text/x-python",
   "name": "python",
   "nbconvert_exporter": "python",
   "pygments_lexer": "ipython3",
   "version": "3.10.9"
  }
 },
 "nbformat": 4,
 "nbformat_minor": 5
}
